import pandas as pd

# Load the data
aspirants_df = pd.read_csv("aspirants_mock_data.csv")
mentors_df = pd.read_csv("mentors_mock_data.csv")

# Preview the data
print("Aspirants Data:")
display(aspirants_df.head())

print("Mentors Data:")
display(mentors_df.head())

from sklearn.preprocessing import MultiLabelBinarizer

# Preprocessing Function
def preprocess_profiles(df, is_mentor=False):
    df = df.copy()

    # Rename columns for consistency
    df["subjects"] = df["strength_subjects"] if is_mentor else df["preferred_subjects"]
    df["colleges"] = df["specialization_colleges"] if is_mentor else df["target_colleges"]
    df["level"] = df["experience_level"] if is_mentor else df["preparation_level"]
    df["style"] = df["teaching_style"] if is_mentor else df["learning_style"]

    # Convert comma-separated strings into lists
    df["subjects"] = df["subjects"].apply(lambda x: [s.strip() for s in x.split(",")] if isinstance(x, str) else [])
    df["colleges"] = df["colleges"].apply(lambda x: [s.strip() for s in x.split(",")] if isinstance(x, str) else [])

    # Multi-hot encode subjects and colleges
    mlb_sub = MultiLabelBinarizer()
    mlb_col = MultiLabelBinarizer()

    subject_enc = pd.DataFrame(mlb_sub.fit_transform(df["subjects"]), columns=[f"sub_{s}" for s in mlb_sub.classes_])
    college_enc = pd.DataFrame(mlb_col.fit_transform(df["colleges"]), columns=[f"col_{c}" for c in mlb_col.classes_])

    df = df.join(subject_enc).join(college_enc)

    # One-hot encode level and style
    df = pd.get_dummies(df, columns=["level", "style"])

    # Drop original list columns
    df = df.drop(columns=["subjects", "colleges"], errors='ignore')

    return df

from sklearn.metrics.pairwise import cosine_similarity

aspirants_processed = preprocess_profiles(aspirants_df)
mentors_processed = preprocess_profiles(mentors_df, is_mentor=True)

# Ensure Same Features
common_cols = list(set(aspirants_processed.columns) & set(mentors_processed.columns))
asp_features = aspirants_processed[common_cols].select_dtypes(include='number')
mentor_features = mentors_processed[common_cols].select_dtypes(include='number')

# Compute Cosine Similarity
similarity_matrix = cosine_similarity(asp_features, mentor_features)

# Recommend Top 3 Mentors
top_n = 3
recommendations = {}
for i, aspirant in aspirants_df.iterrows():
    sim_scores = list(enumerate(similarity_matrix[i]))
    top_matches = sorted(sim_scores, key=lambda x: x[1], reverse=True)[:top_n]
    recommended_names = [mentors_df.iloc[m_idx]["name"] for m_idx, _ in top_matches]
    recommendations[aspirant["name"]] = recommended_names

# Print Recommendations
for aspirant_name, mentor_list in recommendations.items():
    print(f"{aspirant_name} → Recommended Mentors: {', '.join(mentor_list)}")
